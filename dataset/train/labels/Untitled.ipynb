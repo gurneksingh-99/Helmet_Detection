{
 "cells": [
  {
   "cell_type": "code",
   "execution_count": 1,
   "id": "4286d81f-7c84-41fe-8e1d-81754f541c91",
   "metadata": {},
   "outputs": [],
   "source": [
    "import os"
   ]
  },
  {
   "cell_type": "code",
   "execution_count": null,
   "id": "5d1e9d17-99a0-431e-b60b-10855e8687fa",
   "metadata": {},
   "outputs": [],
   "source": [
    "import os\n",
    "\n",
    "# Path to the folder containing label files\n",
    "folder_path = \"./labels/train/\"  # Change this to your folder path\n",
    "\n",
    "# Loop through all .txt files in the folder\n",
    "for filename in os.listdir(folder_path):\n",
    "    if filename.endswith(\".txt\"):  # Process only .txt files\n",
    "        old_path = os.path.join(folder_path, filename)\n",
    "        new_filename = filename[9:]  # Remove first 9 characters\n",
    "        new_path = os.path.join(folder_path, new_filename)\n",
    "        \n",
    "        os.rename(old_path, new_path)  # Rename the file\n",
    "\n",
    "print(\"Renaming completed successfully!\")\n"
   ]
  },
  {
   "cell_type": "code",
   "execution_count": 2,
   "id": "99d127f3-63bf-47a6-9f5f-9e55a9405cc3",
   "metadata": {},
   "outputs": [],
   "source": [
    "path = r\"hhh\""
   ]
  },
  {
   "cell_type": "code",
   "execution_count": 5,
   "id": "5e986ad0-238a-4396-90f5-9c4e59134748",
   "metadata": {},
   "outputs": [],
   "source": [
    "for name in os.listdir(path):\n",
    "    if name.endswith(\".txt\"):\n",
    "        old_path = os.path.join(path,name)\n",
    "        new_filename = name[9:]\n",
    "        new_path = os.path.join(path,new_filename)\n",
    "        os.rename(old_path,new_path)"
   ]
  },
  {
   "cell_type": "code",
   "execution_count": 6,
   "id": "77ea593b-881f-47bf-a157-b2f69f06679d",
   "metadata": {},
   "outputs": [],
   "source": [
    "name = 'pranitamhatre'"
   ]
  },
  {
   "cell_type": "code",
   "execution_count": 8,
   "id": "1b8b730c-0b17-41c0-b8ed-17ae1e1a7e13",
   "metadata": {},
   "outputs": [
    {
     "data": {
      "text/plain": [
       "'pranitamh'"
      ]
     },
     "execution_count": 8,
     "metadata": {},
     "output_type": "execute_result"
    }
   ],
   "source": [
    "name[:9]"
   ]
  },
  {
   "cell_type": "code",
   "execution_count": null,
   "id": "b75ece5a-5f54-4c4e-9610-6c15c48d4ef7",
   "metadata": {},
   "outputs": [],
   "source": []
  }
 ],
 "metadata": {
  "kernelspec": {
   "display_name": "Python 3 (ipykernel)",
   "language": "python",
   "name": "python3"
  },
  "language_info": {
   "codemirror_mode": {
    "name": "ipython",
    "version": 3
   },
   "file_extension": ".py",
   "mimetype": "text/x-python",
   "name": "python",
   "nbconvert_exporter": "python",
   "pygments_lexer": "ipython3",
   "version": "3.11.0"
  }
 },
 "nbformat": 4,
 "nbformat_minor": 5
}
